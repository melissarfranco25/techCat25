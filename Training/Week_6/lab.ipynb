{
 "cells": [
  {
   "cell_type": "code",
   "execution_count": 13,
   "id": "46d295b7",
   "metadata": {},
   "outputs": [
    {
     "data": {
      "text/plain": [
       "True"
      ]
     },
     "execution_count": 13,
     "metadata": {},
     "output_type": "execute_result"
    }
   ],
   "source": [
    "from dotenv import load_dotenv\n",
    "load_dotenv()"
   ]
  },
  {
   "cell_type": "code",
   "execution_count": 14,
   "id": "c2efd13f",
   "metadata": {},
   "outputs": [],
   "source": [
    "import boto3\n",
    "import os\n",
    "\n",
    "s3_client = boto3.client('s3')"
   ]
  },
  {
   "cell_type": "code",
   "execution_count": 15,
   "id": "b1c22889",
   "metadata": {},
   "outputs": [
    {
     "name": "stdout",
     "output_type": "stream",
     "text": [
      "capstone-techcatalyst-conformed\n",
      "capstone-techcatalyst-raw\n",
      "capstone-techcatalyst-transformed\n",
      "techcatalyst-public\n",
      "techcatalyst-raw\n",
      "techcatalyst-transformed\n",
      "BLAKE/test.csv\n",
      "BLAKE/test2.csv\n",
      "BLAKE/test3.csv\n",
      "BLAKE/test4.csv\n",
      "BLAKE/test4.parquet/3eb3c7a40840497db7f67c4b60cb78d0.snappy.parquet\n",
      "BLAKE/test_export.parquet\n",
      "BLAKE/upload_file_method_GOOG.csv\n",
      "BLAKE/upload_fileobj_method.txt\n",
      "BLAKE_wr/9288e6c1eed4476d98eade7875cbf9c0.snappy.parquet\n",
      "BLAKE_wr/uploads/wr_newfile.csv\n",
      "Ben/Million_Songs/\n",
      "Ben/bingchilling.txt\n",
      "Ben/gooooog.csv\n",
      "Ben/parquetGoogleStock/a0eeb97dbd854a5c9cc6e89512faee73.snappy.parquet\n",
      "Ben/test.csv\n",
      "Ben/uploads/Google_upload_test\n",
      "EMMA/emna_goog.csv\n",
      "EMMA/emna_goog.txt\n",
      "EMMA/test_export.parquet\n",
      "MELISSA/uploads/GOOG.csv\n",
      "MillionSongSubset/\n",
      "MillionSongSubset/log-data/2018-11-01-events.json\n",
      "MillionSongSubset/log-data/2018-11-02-events.json\n",
      "MillionSongSubset/log-data/2018-11-03-events.json\n",
      "MillionSongSubset/log-data/2018-11-04-events.json\n",
      "MillionSongSubset/log-data/2018-11-05-events.json\n",
      "MillionSongSubset/log-data/2018-11-06-events.json\n",
      "MillionSongSubset/log-data/2018-11-07-events.json\n",
      "MillionSongSubset/log-data/2018-11-08-events.json\n",
      "MillionSongSubset/log-data/2018-11-09-events.json\n",
      "MillionSongSubset/log-data/2018-11-10-events.json\n",
      "MillionSongSubset/log-data/2018-11-11-events.json\n",
      "MillionSongSubset/log-data/2018-11-12-events.json\n",
      "MillionSongSubset/log-data/2018-11-13-events.json\n",
      "MillionSongSubset/log-data/2018-11-14-events.json\n",
      "MillionSongSubset/log-data/2018-11-15-events.json\n",
      "MillionSongSubset/log-data/2018-11-16-events.json\n",
      "MillionSongSubset/log-data/2018-11-17-events.json\n",
      "MillionSongSubset/log-data/2018-11-18-events.json\n",
      "MillionSongSubset/log-data/2018-11-19-events.json\n",
      "MillionSongSubset/log-data/2018-11-20-events.json\n",
      "MillionSongSubset/log-data/2018-11-21-events.json\n",
      "MillionSongSubset/log-data/2018-11-22-events.json\n",
      "MillionSongSubset/log-data/2018-11-23-events.json\n",
      "MillionSongSubset/log-data/2018-11-24-events.json\n",
      "MillionSongSubset/log-data/2018-11-25-events.json\n",
      "MillionSongSubset/log-data/2018-11-26-events.json\n",
      "MillionSongSubset/log-data/2018-11-27-events.json\n",
      "MillionSongSubset/log-data/2018-11-28-events.json\n",
      "MillionSongSubset/log-data/2018-11-29-events.json\n",
      "MillionSongSubset/log-data/2018-11-30-events.json\n",
      "MillionSongSubset/song_data/A/A/A/TRAAAAW128F429D538.json\n",
      "MillionSongSubset/song_data/A/A/A/TRAAABD128F429CF47.json\n",
      "MillionSongSubset/song_data/A/A/A/TRAAADZ128F9348C2E.json\n",
      "MillionSongSubset/song_data/A/A/A/TRAAAEF128F4273421.json\n",
      "MillionSongSubset/song_data/A/A/A/TRAAAFD128F92F423A.json\n",
      "MillionSongSubset/song_data/A/A/A/TRAAAMO128F1481E7F.json\n",
      "MillionSongSubset/song_data/A/A/A/TRAAAMQ128F1460CD3.json\n",
      "MillionSongSubset/song_data/A/A/A/TRAAAPK128E0786D96.json\n",
      "MillionSongSubset/song_data/A/A/A/TRAAARJ128F9320760.json\n",
      "MillionSongSubset/song_data/A/A/A/TRAAAVG12903CFA543.json\n",
      "MillionSongSubset/song_data/A/A/A/TRAAAVO128F93133D4.json\n",
      "MillionSongSubset/song_data/A/A/B/TRAABCL128F4286650.json\n",
      "MillionSongSubset/song_data/A/A/B/TRAABDL12903CAABBA.json\n",
      "MillionSongSubset/song_data/A/A/B/TRAABJL12903CDCF1A.json\n",
      "MillionSongSubset/song_data/A/A/B/TRAABJV128F1460C49.json\n",
      "MillionSongSubset/song_data/A/A/B/TRAABLR128F423B7E3.json\n",
      "MillionSongSubset/song_data/A/A/B/TRAABNV128F425CEE1.json\n",
      "MillionSongSubset/song_data/A/A/B/TRAABRB128F9306DD5.json\n",
      "MillionSongSubset/song_data/A/A/B/TRAABVM128F92CA9DC.json\n",
      "MillionSongSubset/song_data/A/A/B/TRAABXG128F9318EBD.json\n",
      "MillionSongSubset/song_data/A/A/B/TRAABYN12903CFD305.json\n",
      "MillionSongSubset/song_data/A/A/B/TRAABYW128F4244559.json\n",
      "MillionSongSubset/song_data/A/A/C/TRAACCG128F92E8A55.json\n",
      "MillionSongSubset/song_data/A/A/C/TRAACER128F4290F96.json\n",
      "MillionSongSubset/song_data/A/A/C/TRAACFV128F935E50B.json\n",
      "MillionSongSubset/song_data/A/A/C/TRAACHN128F1489601.json\n",
      "MillionSongSubset/song_data/A/A/C/TRAACIW12903CC0F6D.json\n",
      "MillionSongSubset/song_data/A/A/C/TRAACLV128F427E123.json\n",
      "MillionSongSubset/song_data/A/A/C/TRAACNS128F14A2DF5.json\n",
      "MillionSongSubset/song_data/A/A/C/TRAACOW128F933E35F.json\n",
      "MillionSongSubset/song_data/A/A/C/TRAACPE128F421C1B9.json\n",
      "MillionSongSubset/song_data/A/A/C/TRAACQT128F9331780.json\n",
      "MillionSongSubset/song_data/A/A/C/TRAACSL128F93462F4.json\n",
      "MillionSongSubset/song_data/A/A/C/TRAACTB12903CAAF15.json\n",
      "MillionSongSubset/song_data/A/A/C/TRAACVS128E078BE39.json\n",
      "MillionSongSubset/song_data/A/A/C/TRAACZK128F4243829.json\n",
      "MillionSongSubset/song_data/A/B/A/TRABACN128F425B784.json\n",
      "MillionSongSubset/song_data/A/B/A/TRABAFJ128F42AF24E.json\n",
      "MillionSongSubset/song_data/A/B/A/TRABAFP128F931E9A1.json\n",
      "MillionSongSubset/song_data/A/B/A/TRABAIO128F42938F9.json\n",
      "MillionSongSubset/song_data/A/B/A/TRABATO128F42627E9.json\n",
      "MillionSongSubset/song_data/A/B/A/TRABAVQ12903CBF7E0.json\n",
      "MillionSongSubset/song_data/A/B/A/TRABAWW128F4250A31.json\n",
      "MillionSongSubset/song_data/A/B/A/TRABAXL128F424FC50.json\n",
      "MillionSongSubset/song_data/A/B/A/TRABAXR128F426515F.json\n",
      "MillionSongSubset/song_data/A/B/A/TRABAXV128F92F6AE3.json\n",
      "MillionSongSubset/song_data/A/B/A/TRABAZH128F930419A.json\n",
      "MillionSongSubset/song_data/A/B/B/TRABBAM128F429D223.json\n",
      "MillionSongSubset/song_data/A/B/B/TRABBBV128F42967D7.json\n",
      "MillionSongSubset/song_data/A/B/B/TRABBJE12903CDB442.json\n",
      "MillionSongSubset/song_data/A/B/B/TRABBKX128F4285205.json\n",
      "MillionSongSubset/song_data/A/B/B/TRABBLU128F93349CF.json\n",
      "MillionSongSubset/song_data/A/B/B/TRABBNP128F932546F.json\n",
      "MillionSongSubset/song_data/A/B/B/TRABBOP128F931B50D.json\n",
      "MillionSongSubset/song_data/A/B/B/TRABBOR128F4286200.json\n",
      "MillionSongSubset/song_data/A/B/B/TRABBTA128F933D304.json\n",
      "MillionSongSubset/song_data/A/B/B/TRABBVJ128F92F7EAA.json\n",
      "MillionSongSubset/song_data/A/B/B/TRABBXU128F92FEF48.json\n",
      "MillionSongSubset/song_data/A/B/B/TRABBZN12903CD9297.json\n",
      "MillionSongSubset/song_data/A/B/C/TRABCAJ12903CDFCC2.json\n",
      "MillionSongSubset/song_data/A/B/C/TRABCEC128F426456E.json\n",
      "MillionSongSubset/song_data/A/B/C/TRABCEI128F424C983.json\n",
      "MillionSongSubset/song_data/A/B/C/TRABCFL128F149BB0D.json\n",
      "MillionSongSubset/song_data/A/B/C/TRABCIX128F4265903.json\n",
      "MillionSongSubset/song_data/A/B/C/TRABCKL128F423A778.json\n",
      "MillionSongSubset/song_data/A/B/C/TRABCPZ128F4275C32.json\n",
      "MillionSongSubset/song_data/A/B/C/TRABCRU128F423F449.json\n",
      "MillionSongSubset/song_data/A/B/C/TRABCTK128F934B224.json\n",
      "MillionSongSubset/song_data/A/B/C/TRABCUQ128E0783E2B.json\n",
      "MillionSongSubset/song_data/A/B/C/TRABCXB128F4286BD3.json\n",
      "MillionSongSubset/song_data/A/B/C/TRABCYE128F934CE1D.json\n",
      "YOURNAME/test_export.parquet\n",
      "aamnah/172a5341ccd94b8f95dd05dc3410e9d0_000000_000000.snappy.parquet\n",
      "aamnah/172a5341ccd94b8f95dd05dc3410e9d0_000001_000000.snappy.parquet\n",
      "aamnah/172a5341ccd94b8f95dd05dc3410e9d0_000002_000000.snappy.parquet\n",
      "aamnah/172a5341ccd94b8f95dd05dc3410e9d0_000003_000000.snappy.parquet\n",
      "aamnah/uploads/GOOG_NEW.csv\n",
      "accidents/\n",
      "accidents/accidents_2017_to_2023_english.csv\n",
      "alexia/957133637c684b09a94cc753e0c594a2_000000_000000.snappy.parquet\n",
      "alexia/957133637c684b09a94cc753e0c594a2_000001_000000.snappy.parquet\n",
      "alexia/957133637c684b09a94cc753e0c594a2_000002_000000.snappy.parquet\n",
      "alexia/957133637c684b09a94cc753e0c594a2_000003_000000.snappy.parquet\n",
      "emma/3a1b7394faa84991a5e7700c963af73f_000000_000000.snappy.parquet\n",
      "emma/3a1b7394faa84991a5e7700c963af73f_000001_000000.snappy.parquet\n",
      "emma/3a1b7394faa84991a5e7700c963af73f_000002_000000.snappy.parquet\n",
      "emma/3a1b7394faa84991a5e7700c963af73f_000003_000000.snappy.parquet\n",
      "emma/uploads/wr_emma_stock\n",
      "fabiola/a3a03886216d40279ccfca68cc237524.snappy.parquet\n",
      "fabiola/test.csv\n",
      "fabiola/uploads/wr_GOOG.csv\n",
      "jaden/6e08eee074434aa7abda59ab22bc3ea7.snappy.parquet\n",
      "jaden/test.csv\n",
      "jaden/uploads/new_file.csv\n",
      "michael/e798e42882254cf5a9e99351bd7626d6.snappy.parquet\n",
      "miraj/aa649f748f1a444e98540e3bbe3135d1.snappy.parquet\n",
      "miraj_jara/uploads/google_stock_data\n",
      "shaswat/e4e70d26665c4d07af4bdaab85f8975e.snappy.parquet\n",
      "shaswat/test.csv\n",
      "shaswat/uploads/new_file.csv\n",
      "stage/\n",
      "stage/yellow_tripdata.csv\n",
      "stage/yellow_tripdata.json\n",
      "stage/yellow_tripdata.parquet\n",
      "stocks/\n",
      "stocks/GOOG.csv\n",
      "suchitha/55bb31001ebb40eab50c449bb676aa7f.snappy.parquet\n",
      "suchitha/uploads/sales.csv\n",
      "tatwan/51addc9167684aa281c96fd5ae2d5be2.snappy.parquet\n",
      "tatwan/GOOG.csv\n",
      "tatwan/GOOG_NEW.csv\n",
      "tatwan/buffer.txt\n",
      "taxi_data/\n",
      "taxi_data/8d12668ed190477fa03a29a0a5d50e84_000000_000000.snappy.parquet\n",
      "taxi_data/8d12668ed190477fa03a29a0a5d50e84_000001_000000.snappy.parquet\n",
      "taxi_data/8d12668ed190477fa03a29a0a5d50e84_000002_000000.snappy.parquet\n",
      "taxi_data/8d12668ed190477fa03a29a0a5d50e84_000003_000000.snappy.parquet\n",
      "taxi_data/yellow_tripdata_2024-01.parquet\n",
      "taxi_data/yellow_tripdata_2024-02.parquet\n",
      "taxi_data/yellow_tripdata_2024-03.parquet\n",
      "taxi_data/yellow_tripdata_2024-04.parquet\n",
      "tyler/3a63de0a979f4b22956d913074a48c24.snappy.parquet\n",
      "tyler/uploads/goog_stock_file.csv\n",
      "BLAKE/test.csv\n",
      "BLAKE/test2.csv\n",
      "BLAKE/test3.csv\n",
      "BLAKE/test4.csv\n",
      "BLAKE/upload_file_method_GOOG.csv\n",
      "BLAKE_wr/uploads/wr_newfile.csv\n",
      "Ben/gooooog.csv\n",
      "Ben/test.csv\n",
      "EMMA/emna_goog.csv\n",
      "MELISSA/uploads/GOOG.csv\n",
      "aamnah/uploads/GOOG_NEW.csv\n",
      "accidents/accidents_2017_to_2023_english.csv\n",
      "fabiola/test.csv\n",
      "fabiola/uploads/wr_GOOG.csv\n",
      "jaden/test.csv\n",
      "jaden/uploads/new_file.csv\n",
      "shaswat/test.csv\n",
      "shaswat/uploads/new_file.csv\n",
      "stage/yellow_tripdata.csv\n",
      "stocks/GOOG.csv\n",
      "suchitha/uploads/sales.csv\n",
      "tatwan/GOOG.csv\n",
      "tatwan/GOOG_NEW.csv\n",
      "tyler/uploads/goog_stock_file.csv\n"
     ]
    }
   ],
   "source": [
    "# list bucket names\n",
    "buckets = s3_client.list_buckets()\n",
    "for bucket in buckets['Buckets']:\n",
    "    if 'techcatalyst' in bucket['Name']:\n",
    "        print(bucket['Name'])\n",
    "\n",
    "# list objects in a specific bucket \"techcatalyst-raw\" \n",
    "bucket_name = \"techcatalyst-raw\"\n",
    "objects = s3_client.list_objects_v2(Bucket=bucket_name)\n",
    "for obj in objects.get('Contents', []):\n",
    "    print(obj['Key'])\n",
    "\n",
    "# list objects that are CSV in a specific bucket \"techcatalyst-raw\" \n",
    "for obj in objects.get('Contents', []):\n",
    "    if obj['Key'].endswith('.csv'):\n",
    "        print(obj['Key'])"
   ]
  },
  {
   "cell_type": "code",
   "execution_count": 6,
   "id": "fa1e7b7a",
   "metadata": {},
   "outputs": [],
   "source": [
    "s3_client.download_file(Bucket='techcatalyst-raw',  # from which bucket\n",
    "                        Key='stocks/GOOG.csv', # what is the object name, this include the directory/key.csv\n",
    "                        Filename='melissa_goog.csv') # Filename is what you want to call it once it is downloaded\n",
    "\n",
    "import io\n",
    "io_temp = io.BytesIO()\n",
    "temp = s3_client.download_fileobj(Bucket='techcatalyst-raw', \n",
    "                           \t\t\tKey='stocks/GOOG.csv',\n",
    "                            \t\tFileobj=io_temp) # pass th io.BytesIO object"
   ]
  },
  {
   "cell_type": "code",
   "execution_count": 7,
   "id": "ef400177",
   "metadata": {},
   "outputs": [
    {
     "name": "stdout",
     "output_type": "stream",
     "text": [
      "b'Date,Open,High,Low,Close,Volume\\r\\n1/2/2025 16:00:00,191.49,193.2,188.71,190.63,17545162\\r\\n1/3/2025 16:'\n"
     ]
    }
   ],
   "source": [
    "print(io_temp.getvalue()[:100])"
   ]
  },
  {
   "cell_type": "code",
   "execution_count": 8,
   "id": "2f448aad",
   "metadata": {},
   "outputs": [],
   "source": [
    "with open('google_stock_downloaded.csv', 'wb') as f:\n",
    "    f.write(io_temp.getvalue())"
   ]
  },
  {
   "cell_type": "code",
   "execution_count": 16,
   "id": "29221d76",
   "metadata": {},
   "outputs": [],
   "source": [
    "# uploading a local file using upload_file\n",
    "s3_client.upload_file(Filename='melissa_goog.csv', # local file name\n",
    "                      Bucket='techcatalyst-raw', # the bucket target\n",
    "                      Key='MELISSA/uploads/GOOG.csv') # destination name, make sure it include YOURNAME/ANY_FILE_NAME.csv"
   ]
  },
  {
   "cell_type": "code",
   "execution_count": 17,
   "id": "8c75973b",
   "metadata": {},
   "outputs": [],
   "source": [
    "in_memory_file = io.BytesIO(b\"TESTING LAB 2\")\n",
    "s3_client.upload_fileobj(Fileobj= in_memory_file,\n",
    "                          Bucket=  'techcatalyst-raw', # the bucket target\n",
    "                          Key='MELISSA/uploads/fileobj.txt') # destination name, make sure it include YOURNAME/ANY_FILE_NAME.txt"
   ]
  },
  {
   "cell_type": "code",
   "execution_count": 18,
   "id": "9899b075",
   "metadata": {},
   "outputs": [
    {
     "name": "stdout",
     "output_type": "stream",
     "text": [
      "MELISSA/uploads/GOOG.csv\n",
      "MELISSA/uploads/fileobj.txt\n"
     ]
    }
   ],
   "source": [
    "# list objects in a specific bucket \"techcatalyst-raw\" with prefix \"tatwan\"\n",
    "objects = s3_client.list_objects_v2(Bucket='techcatalyst-raw', Prefix='MELISSA/uploads/')\n",
    "for obj in objects.get('Contents', []):\n",
    "    print(obj['Key'])"
   ]
  },
  {
   "cell_type": "markdown",
   "id": "2fc54c4a",
   "metadata": {},
   "source": [
    "LAB 3 "
   ]
  },
  {
   "cell_type": "code",
   "execution_count": 1,
   "id": "d532e840",
   "metadata": {},
   "outputs": [
    {
     "data": {
      "text/plain": [
       "True"
      ]
     },
     "execution_count": 1,
     "metadata": {},
     "output_type": "execute_result"
    }
   ],
   "source": [
    "# load your credentials\n",
    "from dotenv import load_dotenv\n",
    "load_dotenv()"
   ]
  },
  {
   "cell_type": "code",
   "execution_count": 2,
   "id": "f0d4b127",
   "metadata": {},
   "outputs": [],
   "source": [
    "# import awswrangler\n",
    "import awswrangler as wr"
   ]
  },
  {
   "cell_type": "code",
   "execution_count": 3,
   "id": "d4ac1b80",
   "metadata": {},
   "outputs": [
    {
     "data": {
      "text/html": [
       "<div>\n",
       "<style scoped>\n",
       "    .dataframe tbody tr th:only-of-type {\n",
       "        vertical-align: middle;\n",
       "    }\n",
       "\n",
       "    .dataframe tbody tr th {\n",
       "        vertical-align: top;\n",
       "    }\n",
       "\n",
       "    .dataframe thead th {\n",
       "        text-align: right;\n",
       "    }\n",
       "</style>\n",
       "<table border=\"1\" class=\"dataframe\">\n",
       "  <thead>\n",
       "    <tr style=\"text-align: right;\">\n",
       "      <th></th>\n",
       "      <th>Date</th>\n",
       "      <th>Open</th>\n",
       "      <th>High</th>\n",
       "      <th>Low</th>\n",
       "      <th>Close</th>\n",
       "      <th>Volume</th>\n",
       "    </tr>\n",
       "  </thead>\n",
       "  <tbody>\n",
       "    <tr>\n",
       "      <th>0</th>\n",
       "      <td>1/2/2025 16:00:00</td>\n",
       "      <td>191.49</td>\n",
       "      <td>193.20</td>\n",
       "      <td>188.71</td>\n",
       "      <td>190.63</td>\n",
       "      <td>17545162</td>\n",
       "    </tr>\n",
       "    <tr>\n",
       "      <th>1</th>\n",
       "      <td>1/3/2025 16:00:00</td>\n",
       "      <td>192.73</td>\n",
       "      <td>194.50</td>\n",
       "      <td>191.35</td>\n",
       "      <td>193.13</td>\n",
       "      <td>12874957</td>\n",
       "    </tr>\n",
       "    <tr>\n",
       "      <th>2</th>\n",
       "      <td>1/6/2025 16:00:00</td>\n",
       "      <td>195.15</td>\n",
       "      <td>199.56</td>\n",
       "      <td>195.06</td>\n",
       "      <td>197.96</td>\n",
       "      <td>19483323</td>\n",
       "    </tr>\n",
       "    <tr>\n",
       "      <th>3</th>\n",
       "      <td>1/7/2025 16:00:00</td>\n",
       "      <td>198.27</td>\n",
       "      <td>202.14</td>\n",
       "      <td>195.94</td>\n",
       "      <td>196.71</td>\n",
       "      <td>16966760</td>\n",
       "    </tr>\n",
       "    <tr>\n",
       "      <th>4</th>\n",
       "      <td>1/8/2025 16:00:00</td>\n",
       "      <td>193.95</td>\n",
       "      <td>197.64</td>\n",
       "      <td>193.75</td>\n",
       "      <td>195.39</td>\n",
       "      <td>14335341</td>\n",
       "    </tr>\n",
       "  </tbody>\n",
       "</table>\n",
       "</div>"
      ],
      "text/plain": [
       "                Date    Open    High     Low   Close    Volume\n",
       "0  1/2/2025 16:00:00  191.49  193.20  188.71  190.63  17545162\n",
       "1  1/3/2025 16:00:00  192.73  194.50  191.35  193.13  12874957\n",
       "2  1/6/2025 16:00:00  195.15  199.56  195.06  197.96  19483323\n",
       "3  1/7/2025 16:00:00  198.27  202.14  195.94  196.71  16966760\n",
       "4  1/8/2025 16:00:00  193.95  197.64  193.75  195.39  14335341"
      ]
     },
     "execution_count": 3,
     "metadata": {},
     "output_type": "execute_result"
    }
   ],
   "source": [
    "# test if you can read from a private bucket\n",
    "\n",
    "df = wr.s3.read_csv('s3://techcatalyst-raw/stocks/GOOG.csv')\n",
    "df.head()"
   ]
  },
  {
   "cell_type": "code",
   "execution_count": 4,
   "id": "e7533d89",
   "metadata": {},
   "outputs": [
    {
     "name": "stdout",
     "output_type": "stream",
     "text": [
      "<class 'pandas.core.frame.DataFrame'>\n",
      "RangeIndex: 140 entries, 0 to 139\n",
      "Data columns (total 6 columns):\n",
      " #   Column  Non-Null Count  Dtype  \n",
      "---  ------  --------------  -----  \n",
      " 0   Date    140 non-null    object \n",
      " 1   Open    140 non-null    float64\n",
      " 2   High    140 non-null    float64\n",
      " 3   Low     140 non-null    float64\n",
      " 4   Close   140 non-null    float64\n",
      " 5   Volume  140 non-null    int64  \n",
      "dtypes: float64(4), int64(1), object(1)\n",
      "memory usage: 6.7+ KB\n"
     ]
    }
   ],
   "source": [
    "# the returned object is actuall a pandas DataFrame\n",
    "df.info()"
   ]
  },
  {
   "cell_type": "code",
   "execution_count": 8,
   "id": "1b606aee",
   "metadata": {},
   "outputs": [
    {
     "name": "stdout",
     "output_type": "stream",
     "text": [
      "               Database       Description\n",
      "0             aamnah_db                  \n",
      "1           aamnah_taxi                  \n",
      "2             alexia_db                  \n",
      "3           alexia_logs                  \n",
      "4           alexia_song                  \n",
      "5      awswrangler_test                  \n",
      "6                ben_db                  \n",
      "7              ben_song                  \n",
      "8              ben_taxi                  \n",
      "9            blake_taxi                  \n",
      "10          blake_wr_db                  \n",
      "11              default  default database\n",
      "12              emma_db                  \n",
      "13            emma_taxi                  \n",
      "14           fabiola_db                  \n",
      "15         fabiola_taxi                  \n",
      "16           jaden_taxi                  \n",
      "17        jadenastle_db                  \n",
      "18         melissa_logs                  \n",
      "19        melissa_songs                  \n",
      "20           michael_db                  \n",
      "21             miraj_db                  \n",
      "22           miraj_taxi                  \n",
      "23                my_db                  \n",
      "24           shaswat_db                  \n",
      "25         shaswat_logs                  \n",
      "26         shaswat_song                  \n",
      "27         shaswat_taxi                  \n",
      "28          suchitha_db                  \n",
      "29        suchitha_taxi                  \n",
      "30            tatwan_db                  \n",
      "31  tatwan_inclass_demo                  \n",
      "32          tatwan_taxi                  \n",
      "33             tyler_db                  \n",
      "34           tyler_taxi                  \n"
     ]
    }
   ],
   "source": [
    "databases = wr.catalog.databases()\n",
    "print(databases)"
   ]
  },
  {
   "cell_type": "code",
   "execution_count": 9,
   "id": "275983ba",
   "metadata": {},
   "outputs": [],
   "source": [
    "name = \"melissa\"\n",
    "database_name = f\"{name}_db\"\n",
    "wr.catalog.create_database(database_name)"
   ]
  },
  {
   "cell_type": "code",
   "execution_count": 10,
   "id": "6eae3215",
   "metadata": {},
   "outputs": [
    {
     "name": "stdout",
     "output_type": "stream",
     "text": [
      "               Database       Description\n",
      "0             aamnah_db                  \n",
      "1           aamnah_taxi                  \n",
      "2             alexia_db                  \n",
      "3           alexia_logs                  \n",
      "4           alexia_song                  \n",
      "5      awswrangler_test                  \n",
      "6                ben_db                  \n",
      "7              ben_song                  \n",
      "8              ben_taxi                  \n",
      "9            blake_taxi                  \n",
      "10          blake_wr_db                  \n",
      "11              default  default database\n",
      "12              emma_db                  \n",
      "13            emma_taxi                  \n",
      "14           fabiola_db                  \n",
      "15         fabiola_taxi                  \n",
      "16           jaden_taxi                  \n",
      "17        jadenastle_db                  \n",
      "18           melissa_db                  \n",
      "19         melissa_logs                  \n",
      "20        melissa_songs                  \n",
      "21           michael_db                  \n",
      "22             miraj_db                  \n",
      "23           miraj_taxi                  \n",
      "24                my_db                  \n",
      "25           shaswat_db                  \n",
      "26         shaswat_logs                  \n",
      "27         shaswat_song                  \n",
      "28         shaswat_taxi                  \n",
      "29          suchitha_db                  \n",
      "30        suchitha_taxi                  \n",
      "31            tatwan_db                  \n",
      "32  tatwan_inclass_demo                  \n",
      "33          tatwan_taxi                  \n",
      "34             tyler_db                  \n",
      "35           tyler_taxi                  \n"
     ]
    }
   ],
   "source": [
    "databases = wr.catalog.databases()\n",
    "print(databases)"
   ]
  },
  {
   "cell_type": "code",
   "execution_count": 11,
   "id": "246a7ca9",
   "metadata": {},
   "outputs": [
    {
     "data": {
      "text/html": [
       "<div>\n",
       "<style scoped>\n",
       "    .dataframe tbody tr th:only-of-type {\n",
       "        vertical-align: middle;\n",
       "    }\n",
       "\n",
       "    .dataframe tbody tr th {\n",
       "        vertical-align: top;\n",
       "    }\n",
       "\n",
       "    .dataframe thead th {\n",
       "        text-align: right;\n",
       "    }\n",
       "</style>\n",
       "<table border=\"1\" class=\"dataframe\">\n",
       "  <thead>\n",
       "    <tr style=\"text-align: right;\">\n",
       "      <th></th>\n",
       "      <th>Database</th>\n",
       "      <th>Table</th>\n",
       "      <th>Description</th>\n",
       "      <th>TableType</th>\n",
       "      <th>Columns</th>\n",
       "      <th>Partitions</th>\n",
       "    </tr>\n",
       "  </thead>\n",
       "  <tbody>\n",
       "  </tbody>\n",
       "</table>\n",
       "</div>"
      ],
      "text/plain": [
       "Empty DataFrame\n",
       "Columns: [Database, Table, Description, TableType, Columns, Partitions]\n",
       "Index: []"
      ]
     },
     "execution_count": 11,
     "metadata": {},
     "output_type": "execute_result"
    }
   ],
   "source": [
    "wr.catalog.tables(database=database_name)"
   ]
  },
  {
   "cell_type": "code",
   "execution_count": 12,
   "id": "44ecc159",
   "metadata": {},
   "outputs": [
    {
     "data": {
      "text/plain": [
       "{'paths': ['s3://techcatalyst-raw/melissa/f67b6c91a34d429b955df41b7e9af08c.snappy.parquet'],\n",
       " 'partitions_values': {}}"
      ]
     },
     "execution_count": 12,
     "metadata": {},
     "output_type": "execute_result"
    }
   ],
   "source": [
    "wr.s3.to_parquet(\n",
    "    df=df, # the DataFrame you just created \n",
    "    path=f\"s3://techcatalyst-raw/{name}/\", # write to the techcatalyst-raw bucket under your folder name (or it would create a new folder if it does not exist)\n",
    "    dataset=True, \n",
    "    database=database_name, # the name of the database you just created in AWS Glue \n",
    "    table=f\"{name}_stocks\", # pick a table name for example YOURNAME_STOCK\n",
    "    mode='overwrite'\n",
    "    )"
   ]
  },
  {
   "cell_type": "code",
   "execution_count": 13,
   "id": "9082f967",
   "metadata": {},
   "outputs": [
    {
     "data": {
      "text/html": [
       "<div>\n",
       "<style scoped>\n",
       "    .dataframe tbody tr th:only-of-type {\n",
       "        vertical-align: middle;\n",
       "    }\n",
       "\n",
       "    .dataframe tbody tr th {\n",
       "        vertical-align: top;\n",
       "    }\n",
       "\n",
       "    .dataframe thead th {\n",
       "        text-align: right;\n",
       "    }\n",
       "</style>\n",
       "<table border=\"1\" class=\"dataframe\">\n",
       "  <thead>\n",
       "    <tr style=\"text-align: right;\">\n",
       "      <th></th>\n",
       "      <th>Database</th>\n",
       "      <th>Table</th>\n",
       "      <th>Description</th>\n",
       "      <th>TableType</th>\n",
       "      <th>Columns</th>\n",
       "      <th>Partitions</th>\n",
       "    </tr>\n",
       "  </thead>\n",
       "  <tbody>\n",
       "    <tr>\n",
       "      <th>0</th>\n",
       "      <td>melissa_db</td>\n",
       "      <td>melissa_stocks</td>\n",
       "      <td></td>\n",
       "      <td>EXTERNAL_TABLE</td>\n",
       "      <td>date, open, high, low, close, volume</td>\n",
       "      <td></td>\n",
       "    </tr>\n",
       "  </tbody>\n",
       "</table>\n",
       "</div>"
      ],
      "text/plain": [
       "     Database           Table Description       TableType  \\\n",
       "0  melissa_db  melissa_stocks              EXTERNAL_TABLE   \n",
       "\n",
       "                                Columns Partitions  \n",
       "0  date, open, high, low, close, volume             "
      ]
     },
     "execution_count": 13,
     "metadata": {},
     "output_type": "execute_result"
    }
   ],
   "source": [
    "wr.catalog.tables(database=database_name)"
   ]
  },
  {
   "cell_type": "code",
   "execution_count": 14,
   "id": "0324a1f6",
   "metadata": {},
   "outputs": [
    {
     "data": {
      "text/html": [
       "<div>\n",
       "<style scoped>\n",
       "    .dataframe tbody tr th:only-of-type {\n",
       "        vertical-align: middle;\n",
       "    }\n",
       "\n",
       "    .dataframe tbody tr th {\n",
       "        vertical-align: top;\n",
       "    }\n",
       "\n",
       "    .dataframe thead th {\n",
       "        text-align: right;\n",
       "    }\n",
       "</style>\n",
       "<table border=\"1\" class=\"dataframe\">\n",
       "  <thead>\n",
       "    <tr style=\"text-align: right;\">\n",
       "      <th></th>\n",
       "      <th>Database</th>\n",
       "      <th>Table</th>\n",
       "      <th>Description</th>\n",
       "      <th>TableType</th>\n",
       "      <th>Columns</th>\n",
       "      <th>Partitions</th>\n",
       "    </tr>\n",
       "  </thead>\n",
       "  <tbody>\n",
       "    <tr>\n",
       "      <th>0</th>\n",
       "      <td>aamnah_db</td>\n",
       "      <td>aamnah_stock</td>\n",
       "      <td></td>\n",
       "      <td>EXTERNAL_TABLE</td>\n",
       "      <td>date, open, high, low, close, volume</td>\n",
       "      <td></td>\n",
       "    </tr>\n",
       "    <tr>\n",
       "      <th>1</th>\n",
       "      <td>alexia_db</td>\n",
       "      <td>alexia_stock</td>\n",
       "      <td></td>\n",
       "      <td>EXTERNAL_TABLE</td>\n",
       "      <td>date, open, high, low, close, volume</td>\n",
       "      <td></td>\n",
       "    </tr>\n",
       "    <tr>\n",
       "      <th>2</th>\n",
       "      <td>ben_db</td>\n",
       "      <td>ben_stock</td>\n",
       "      <td>This is my stock table.</td>\n",
       "      <td>EXTERNAL_TABLE</td>\n",
       "      <td>date, open, high, low, close, volume</td>\n",
       "      <td></td>\n",
       "    </tr>\n",
       "    <tr>\n",
       "      <th>3</th>\n",
       "      <td>blake_wr_db</td>\n",
       "      <td>blake_stock</td>\n",
       "      <td>This is my stock table.</td>\n",
       "      <td>EXTERNAL_TABLE</td>\n",
       "      <td>date, open, high, low, close, volume</td>\n",
       "      <td></td>\n",
       "    </tr>\n",
       "    <tr>\n",
       "      <th>4</th>\n",
       "      <td>emma_db</td>\n",
       "      <td>emma_stock</td>\n",
       "      <td>This is my stock table.</td>\n",
       "      <td>EXTERNAL_TABLE</td>\n",
       "      <td>date, open, high, low, close, volume</td>\n",
       "      <td></td>\n",
       "    </tr>\n",
       "    <tr>\n",
       "      <th>5</th>\n",
       "      <td>fabiola_db</td>\n",
       "      <td>fabiola_stock</td>\n",
       "      <td>This is my stock table.</td>\n",
       "      <td>EXTERNAL_TABLE</td>\n",
       "      <td>date, open, high, low, close, volume</td>\n",
       "      <td></td>\n",
       "    </tr>\n",
       "    <tr>\n",
       "      <th>6</th>\n",
       "      <td>jadenastle_db</td>\n",
       "      <td>jaden_stock</td>\n",
       "      <td>This is my stock table.</td>\n",
       "      <td>EXTERNAL_TABLE</td>\n",
       "      <td>date, open, high, low, close, volume</td>\n",
       "      <td></td>\n",
       "    </tr>\n",
       "    <tr>\n",
       "      <th>7</th>\n",
       "      <td>melissa_db</td>\n",
       "      <td>melissa_stocks</td>\n",
       "      <td></td>\n",
       "      <td>EXTERNAL_TABLE</td>\n",
       "      <td>date, open, high, low, close, volume</td>\n",
       "      <td></td>\n",
       "    </tr>\n",
       "    <tr>\n",
       "      <th>8</th>\n",
       "      <td>michael_db</td>\n",
       "      <td>michael_stock</td>\n",
       "      <td></td>\n",
       "      <td>EXTERNAL_TABLE</td>\n",
       "      <td>date, open, high, low, close, volume</td>\n",
       "      <td></td>\n",
       "    </tr>\n",
       "    <tr>\n",
       "      <th>9</th>\n",
       "      <td>miraj_db</td>\n",
       "      <td>miraj_google_stock</td>\n",
       "      <td>This is my stock table.</td>\n",
       "      <td>EXTERNAL_TABLE</td>\n",
       "      <td>date, open, high, low, close, volume</td>\n",
       "      <td></td>\n",
       "    </tr>\n",
       "    <tr>\n",
       "      <th>10</th>\n",
       "      <td>shaswat_db</td>\n",
       "      <td>shaswat_stock</td>\n",
       "      <td>This is my stock table.</td>\n",
       "      <td>EXTERNAL_TABLE</td>\n",
       "      <td>date, open, high, low, close, volume</td>\n",
       "      <td></td>\n",
       "    </tr>\n",
       "    <tr>\n",
       "      <th>11</th>\n",
       "      <td>suchitha_db</td>\n",
       "      <td>suchitha_stock</td>\n",
       "      <td>This is my stock table.</td>\n",
       "      <td>EXTERNAL_TABLE</td>\n",
       "      <td>date, open, high, low, close, volume</td>\n",
       "      <td></td>\n",
       "    </tr>\n",
       "    <tr>\n",
       "      <th>12</th>\n",
       "      <td>tatwan_db</td>\n",
       "      <td>tatwan_stock</td>\n",
       "      <td>This is my stock table.</td>\n",
       "      <td>EXTERNAL_TABLE</td>\n",
       "      <td>date, open, high, low, close, volume</td>\n",
       "      <td></td>\n",
       "    </tr>\n",
       "    <tr>\n",
       "      <th>13</th>\n",
       "      <td>tatwan_inclass_demo</td>\n",
       "      <td>tatwan_goog_stock</td>\n",
       "      <td></td>\n",
       "      <td>EXTERNAL_TABLE</td>\n",
       "      <td>date, open, high, low, close, volume</td>\n",
       "      <td></td>\n",
       "    </tr>\n",
       "    <tr>\n",
       "      <th>14</th>\n",
       "      <td>tyler_db</td>\n",
       "      <td>tyler_stock</td>\n",
       "      <td>This is my stock table.</td>\n",
       "      <td>EXTERNAL_TABLE</td>\n",
       "      <td>date, open, high, low, close, volume</td>\n",
       "      <td></td>\n",
       "    </tr>\n",
       "  </tbody>\n",
       "</table>\n",
       "</div>"
      ],
      "text/plain": [
       "               Database               Table              Description  \\\n",
       "0             aamnah_db        aamnah_stock                            \n",
       "1             alexia_db        alexia_stock                            \n",
       "2                ben_db           ben_stock  This is my stock table.   \n",
       "3           blake_wr_db         blake_stock  This is my stock table.   \n",
       "4               emma_db          emma_stock  This is my stock table.   \n",
       "5            fabiola_db       fabiola_stock  This is my stock table.   \n",
       "6         jadenastle_db         jaden_stock  This is my stock table.   \n",
       "7            melissa_db      melissa_stocks                            \n",
       "8            michael_db       michael_stock                            \n",
       "9              miraj_db  miraj_google_stock  This is my stock table.   \n",
       "10           shaswat_db       shaswat_stock  This is my stock table.   \n",
       "11          suchitha_db      suchitha_stock  This is my stock table.   \n",
       "12            tatwan_db        tatwan_stock  This is my stock table.   \n",
       "13  tatwan_inclass_demo   tatwan_goog_stock                            \n",
       "14             tyler_db         tyler_stock  This is my stock table.   \n",
       "\n",
       "         TableType                               Columns Partitions  \n",
       "0   EXTERNAL_TABLE  date, open, high, low, close, volume             \n",
       "1   EXTERNAL_TABLE  date, open, high, low, close, volume             \n",
       "2   EXTERNAL_TABLE  date, open, high, low, close, volume             \n",
       "3   EXTERNAL_TABLE  date, open, high, low, close, volume             \n",
       "4   EXTERNAL_TABLE  date, open, high, low, close, volume             \n",
       "5   EXTERNAL_TABLE  date, open, high, low, close, volume             \n",
       "6   EXTERNAL_TABLE  date, open, high, low, close, volume             \n",
       "7   EXTERNAL_TABLE  date, open, high, low, close, volume             \n",
       "8   EXTERNAL_TABLE  date, open, high, low, close, volume             \n",
       "9   EXTERNAL_TABLE  date, open, high, low, close, volume             \n",
       "10  EXTERNAL_TABLE  date, open, high, low, close, volume             \n",
       "11  EXTERNAL_TABLE  date, open, high, low, close, volume             \n",
       "12  EXTERNAL_TABLE  date, open, high, low, close, volume             \n",
       "13  EXTERNAL_TABLE  date, open, high, low, close, volume             \n",
       "14  EXTERNAL_TABLE  date, open, high, low, close, volume             "
      ]
     },
     "execution_count": 14,
     "metadata": {},
     "output_type": "execute_result"
    }
   ],
   "source": [
    "wr.catalog.tables(name_contains=\"stock\")"
   ]
  },
  {
   "cell_type": "code",
   "execution_count": 15,
   "id": "fe10e8b4",
   "metadata": {},
   "outputs": [
    {
     "data": {
      "text/html": [
       "<div>\n",
       "<style scoped>\n",
       "    .dataframe tbody tr th:only-of-type {\n",
       "        vertical-align: middle;\n",
       "    }\n",
       "\n",
       "    .dataframe tbody tr th {\n",
       "        vertical-align: top;\n",
       "    }\n",
       "\n",
       "    .dataframe thead th {\n",
       "        text-align: right;\n",
       "    }\n",
       "</style>\n",
       "<table border=\"1\" class=\"dataframe\">\n",
       "  <thead>\n",
       "    <tr style=\"text-align: right;\">\n",
       "      <th></th>\n",
       "      <th>date</th>\n",
       "      <th>open</th>\n",
       "      <th>high</th>\n",
       "      <th>low</th>\n",
       "      <th>close</th>\n",
       "      <th>volume</th>\n",
       "    </tr>\n",
       "  </thead>\n",
       "  <tbody>\n",
       "    <tr>\n",
       "      <th>0</th>\n",
       "      <td>1/2/2025 16:00:00</td>\n",
       "      <td>191.49</td>\n",
       "      <td>193.20</td>\n",
       "      <td>188.71</td>\n",
       "      <td>190.63</td>\n",
       "      <td>17545162</td>\n",
       "    </tr>\n",
       "    <tr>\n",
       "      <th>1</th>\n",
       "      <td>1/3/2025 16:00:00</td>\n",
       "      <td>192.73</td>\n",
       "      <td>194.50</td>\n",
       "      <td>191.35</td>\n",
       "      <td>193.13</td>\n",
       "      <td>12874957</td>\n",
       "    </tr>\n",
       "    <tr>\n",
       "      <th>2</th>\n",
       "      <td>1/6/2025 16:00:00</td>\n",
       "      <td>195.15</td>\n",
       "      <td>199.56</td>\n",
       "      <td>195.06</td>\n",
       "      <td>197.96</td>\n",
       "      <td>19483323</td>\n",
       "    </tr>\n",
       "    <tr>\n",
       "      <th>3</th>\n",
       "      <td>1/7/2025 16:00:00</td>\n",
       "      <td>198.27</td>\n",
       "      <td>202.14</td>\n",
       "      <td>195.94</td>\n",
       "      <td>196.71</td>\n",
       "      <td>16966760</td>\n",
       "    </tr>\n",
       "    <tr>\n",
       "      <th>4</th>\n",
       "      <td>1/8/2025 16:00:00</td>\n",
       "      <td>193.95</td>\n",
       "      <td>197.64</td>\n",
       "      <td>193.75</td>\n",
       "      <td>195.39</td>\n",
       "      <td>14335341</td>\n",
       "    </tr>\n",
       "  </tbody>\n",
       "</table>\n",
       "</div>"
      ],
      "text/plain": [
       "                date    open    high     low   close    volume\n",
       "0  1/2/2025 16:00:00  191.49  193.20  188.71  190.63  17545162\n",
       "1  1/3/2025 16:00:00  192.73  194.50  191.35  193.13  12874957\n",
       "2  1/6/2025 16:00:00  195.15  199.56  195.06  197.96  19483323\n",
       "3  1/7/2025 16:00:00  198.27  202.14  195.94  196.71  16966760\n",
       "4  1/8/2025 16:00:00  193.95  197.64  193.75  195.39  14335341"
      ]
     },
     "execution_count": 15,
     "metadata": {},
     "output_type": "execute_result"
    }
   ],
   "source": [
    "df = wr.s3.read_parquet_table(database=database_name, \n",
    "                              table=f\"{name}_stocks\")\n",
    "\n",
    "# Display the DataFrame's first few rows\n",
    "df.head()"
   ]
  },
  {
   "cell_type": "code",
   "execution_count": 16,
   "id": "ea99b57e",
   "metadata": {},
   "outputs": [
    {
     "name": "stdout",
     "output_type": "stream",
     "text": [
      "<class 'pandas.core.frame.DataFrame'>\n",
      "RangeIndex: 140 entries, 0 to 139\n",
      "Data columns (total 6 columns):\n",
      " #   Column  Non-Null Count  Dtype  \n",
      "---  ------  --------------  -----  \n",
      " 0   date    140 non-null    string \n",
      " 1   open    140 non-null    float64\n",
      " 2   high    140 non-null    float64\n",
      " 3   low     140 non-null    float64\n",
      " 4   close   140 non-null    float64\n",
      " 5   volume  140 non-null    Int64  \n",
      "dtypes: Int64(1), float64(4), string(1)\n",
      "memory usage: 6.8 KB\n"
     ]
    }
   ],
   "source": [
    "df.info()"
   ]
  },
  {
   "cell_type": "code",
   "execution_count": 17,
   "id": "ad436eb4",
   "metadata": {},
   "outputs": [
    {
     "data": {
      "text/plain": [
       "{'date': 'string',\n",
       " 'open': 'double',\n",
       " 'high': 'double',\n",
       " 'low': 'double',\n",
       " 'close': 'double',\n",
       " 'volume': 'bigint'}"
      ]
     },
     "execution_count": 17,
     "metadata": {},
     "output_type": "execute_result"
    }
   ],
   "source": [
    "wr.catalog.get_table_types(database=database_name, \n",
    "                           table=f\"{name}_stocks\")"
   ]
  },
  {
   "cell_type": "code",
   "execution_count": 18,
   "id": "083e0fba",
   "metadata": {},
   "outputs": [
    {
     "data": {
      "text/plain": [
       "{'Name': 'melissa_stocks',\n",
       " 'DatabaseName': 'melissa_db',\n",
       " 'CreateTime': datetime.datetime(2025, 8, 4, 23, 4, 16, tzinfo=tzlocal()),\n",
       " 'UpdateTime': datetime.datetime(2025, 8, 4, 23, 4, 16, tzinfo=tzlocal()),\n",
       " 'Retention': 0,\n",
       " 'StorageDescriptor': {'Columns': [{'Name': 'date', 'Type': 'string'},\n",
       "   {'Name': 'open', 'Type': 'double'},\n",
       "   {'Name': 'high', 'Type': 'double'},\n",
       "   {'Name': 'low', 'Type': 'double'},\n",
       "   {'Name': 'close', 'Type': 'double'},\n",
       "   {'Name': 'volume', 'Type': 'bigint'}],\n",
       "  'Location': 's3://techcatalyst-raw/melissa/',\n",
       "  'InputFormat': 'org.apache.hadoop.hive.ql.io.parquet.MapredParquetInputFormat',\n",
       "  'OutputFormat': 'org.apache.hadoop.hive.ql.io.parquet.MapredParquetOutputFormat',\n",
       "  'Compressed': True,\n",
       "  'NumberOfBuckets': -1,\n",
       "  'SerdeInfo': {'SerializationLibrary': 'org.apache.hadoop.hive.ql.io.parquet.serde.ParquetHiveSerDe',\n",
       "   'Parameters': {'serialization.format': '1'}},\n",
       "  'BucketColumns': [],\n",
       "  'SortColumns': [],\n",
       "  'Parameters': {'CrawlerSchemaDeserializerVersion': '1.0',\n",
       "   'compressionType': 'snappy',\n",
       "   'classification': 'parquet',\n",
       "   'typeOfData': 'file'},\n",
       "  'StoredAsSubDirectories': False},\n",
       " 'PartitionKeys': [],\n",
       " 'TableType': 'EXTERNAL_TABLE',\n",
       " 'Parameters': {'compressionType': 'snappy',\n",
       "  'classification': 'parquet',\n",
       "  'projection.enabled': 'false',\n",
       "  'typeOfData': 'file'},\n",
       " 'CreatedBy': 'arn:aws:iam::535146832369:user/Melissa.Rivera-Franco',\n",
       " 'IsRegisteredWithLakeFormation': False,\n",
       " 'CatalogId': '535146832369',\n",
       " 'VersionId': '0',\n",
       " 'IsMultiDialectView': False}"
      ]
     },
     "execution_count": 18,
     "metadata": {},
     "output_type": "execute_result"
    }
   ],
   "source": [
    "table_details = wr.catalog.get_tables(database=database_name)\n",
    "\n",
    "next(table_details)"
   ]
  },
  {
   "cell_type": "code",
   "execution_count": 19,
   "id": "19d97e66",
   "metadata": {},
   "outputs": [
    {
     "data": {
      "text/plain": [
       "{'paths': ['s3://techcatalyst-raw/melissa/e963d46d95e047cb8aea1f194ae786f5.snappy.parquet'],\n",
       " 'partitions_values': {}}"
      ]
     },
     "execution_count": 19,
     "metadata": {},
     "output_type": "execute_result"
    }
   ],
   "source": [
    "# Example adding additional metadata information \n",
    "\n",
    "desc = \"This is my stock table.\"\n",
    "param = {\"source\": \"Google\", \"class\": \"stock\"}\n",
    "comments = {\n",
    "    \"Date\": \"Trading Date\",\n",
    "    \"Open\": \"Opening Price\",\n",
    "    \"Close\": \"Closing Price\"\n",
    "}\n",
    "\n",
    "wr.s3.to_parquet(\n",
    "    df=df,\n",
    "    path=f\"s3://techcatalyst-raw/{name}/\",\n",
    "    dataset=True,\n",
    "    database=database_name,\n",
    "    table=f\"{name}_stocks\",\n",
    "    mode='overwrite',\n",
    "    glue_table_settings=wr.typing.GlueTableSettings(description=desc,  # here we are passing some metadata\n",
    "                                                    parameters=param, \n",
    "                                                    columns_comments=comments),\n",
    "    )"
   ]
  },
  {
   "cell_type": "code",
   "execution_count": 20,
   "id": "3163936a",
   "metadata": {},
   "outputs": [
    {
     "data": {
      "text/html": [
       "<div>\n",
       "<style scoped>\n",
       "    .dataframe tbody tr th:only-of-type {\n",
       "        vertical-align: middle;\n",
       "    }\n",
       "\n",
       "    .dataframe tbody tr th {\n",
       "        vertical-align: top;\n",
       "    }\n",
       "\n",
       "    .dataframe thead th {\n",
       "        text-align: right;\n",
       "    }\n",
       "</style>\n",
       "<table border=\"1\" class=\"dataframe\">\n",
       "  <thead>\n",
       "    <tr style=\"text-align: right;\">\n",
       "      <th></th>\n",
       "      <th>Column Name</th>\n",
       "      <th>Type</th>\n",
       "      <th>Partition</th>\n",
       "      <th>Comment</th>\n",
       "    </tr>\n",
       "  </thead>\n",
       "  <tbody>\n",
       "    <tr>\n",
       "      <th>0</th>\n",
       "      <td>date</td>\n",
       "      <td>string</td>\n",
       "      <td>False</td>\n",
       "      <td>Trading Date</td>\n",
       "    </tr>\n",
       "    <tr>\n",
       "      <th>1</th>\n",
       "      <td>open</td>\n",
       "      <td>double</td>\n",
       "      <td>False</td>\n",
       "      <td>Opening Price</td>\n",
       "    </tr>\n",
       "    <tr>\n",
       "      <th>2</th>\n",
       "      <td>high</td>\n",
       "      <td>double</td>\n",
       "      <td>False</td>\n",
       "      <td></td>\n",
       "    </tr>\n",
       "    <tr>\n",
       "      <th>3</th>\n",
       "      <td>low</td>\n",
       "      <td>double</td>\n",
       "      <td>False</td>\n",
       "      <td></td>\n",
       "    </tr>\n",
       "    <tr>\n",
       "      <th>4</th>\n",
       "      <td>close</td>\n",
       "      <td>double</td>\n",
       "      <td>False</td>\n",
       "      <td>Closing Price</td>\n",
       "    </tr>\n",
       "    <tr>\n",
       "      <th>5</th>\n",
       "      <td>volume</td>\n",
       "      <td>bigint</td>\n",
       "      <td>False</td>\n",
       "      <td></td>\n",
       "    </tr>\n",
       "  </tbody>\n",
       "</table>\n",
       "</div>"
      ],
      "text/plain": [
       "  Column Name    Type  Partition        Comment\n",
       "0        date  string      False   Trading Date\n",
       "1        open  double      False  Opening Price\n",
       "2        high  double      False               \n",
       "3         low  double      False               \n",
       "4       close  double      False  Closing Price\n",
       "5      volume  bigint      False               "
      ]
     },
     "execution_count": 20,
     "metadata": {},
     "output_type": "execute_result"
    }
   ],
   "source": [
    "wr.catalog.table(database=database_name, table=f\"{name}_stocks\")"
   ]
  },
  {
   "cell_type": "code",
   "execution_count": 21,
   "id": "2ecdd358",
   "metadata": {},
   "outputs": [
    {
     "data": {
      "text/plain": [
       "['s3://techcatalyst-raw/stage/yellow_tripdata.csv',\n",
       " 's3://techcatalyst-raw/stage/yellow_tripdata.json',\n",
       " 's3://techcatalyst-raw/stage/yellow_tripdata.parquet']"
      ]
     },
     "execution_count": 21,
     "metadata": {},
     "output_type": "execute_result"
    }
   ],
   "source": [
    "wr.s3.list_objects('s3://techcatalyst-raw/stage/')"
   ]
  },
  {
   "cell_type": "code",
   "execution_count": 22,
   "id": "2cc574cd",
   "metadata": {},
   "outputs": [],
   "source": [
    "wr.s3.download(path='s3://techcatalyst-raw/stocks/GOOG.csv', \n",
    "               local_file='./new_file.csv')"
   ]
  },
  {
   "cell_type": "code",
   "execution_count": 23,
   "id": "33bd7b5a",
   "metadata": {},
   "outputs": [],
   "source": [
    "your_name = \"MELISSA\"\n",
    "file_name = \"new_file.csv\"\n",
    "wr.s3.upload(local_file='new_file.csv',path= f's3://techcatalyst-raw/{your_name}/uploads/{file_name}')"
   ]
  },
  {
   "cell_type": "code",
   "execution_count": 24,
   "id": "dfacdac9",
   "metadata": {},
   "outputs": [
    {
     "data": {
      "text/plain": [
       "['s3://techcatalyst-raw/MELISSA/uploads/GOOG.csv',\n",
       " 's3://techcatalyst-raw/MELISSA/uploads/fileobj.txt',\n",
       " 's3://techcatalyst-raw/MELISSA/uploads/new_file.csv']"
      ]
     },
     "execution_count": 24,
     "metadata": {},
     "output_type": "execute_result"
    }
   ],
   "source": [
    "wr.s3.list_objects(f's3://techcatalyst-raw/{your_name}/uploads/')"
   ]
  },
  {
   "cell_type": "code",
   "execution_count": 5,
   "id": "16a62301",
   "metadata": {},
   "outputs": [],
   "source": [
    "# A name for the new Glue Database it should be YOURNAME_TAXI\n",
    "db_name =  \"melissa_taxi\"\n",
    "\n",
    "# A name for the table it should be YOURNAME_TRIPDATA\n",
    "table_name =  \"melissa_tripdata\"\n",
    "\n",
    "# the path_direcoty to should point to the bucket (main directory)\n",
    "s3_path_directory = \"s3://techcatalyst-raw/taxi_data/\"\n",
    "\n",
    "# The path_file should be the full path to the actual file\n",
    "s3_path_file = 's3://techcatalyst-raw/taxi_data/yellow_tripdata_2024-01.parquet'\n"
   ]
  },
  {
   "cell_type": "code",
   "execution_count": 6,
   "id": "6a1a99b5",
   "metadata": {},
   "outputs": [
    {
     "name": "stdout",
     "output_type": "stream",
     "text": [
      "Successfully read schema from Parquet file.\n"
     ]
    }
   ],
   "source": [
    "import awswrangler as wr\n",
    "# uncomment below if you ran into issues to clean things up and rerun the cell\n",
    "# wr.catalog.delete_table_if_exists(database=db_name, table=table_name) \n",
    "\n",
    "# Create the new Glue database first based on the db_name you created\n",
    "# wr.catalog.create_database(name=db_name)\n",
    "\n",
    "# This function can extract the schema from our file and returns a tuple: (schema, partitions). We only need the schema. \n",
    "columns_types, partitions_types = wr.s3.read_parquet_metadata(path=s3_path_file)\n",
    "print(\"Successfully read schema from Parquet file.\")"
   ]
  },
  {
   "cell_type": "code",
   "execution_count": 7,
   "id": "aa20d3a1",
   "metadata": {},
   "outputs": [
    {
     "name": "stdout",
     "output_type": "stream",
     "text": [
      "Table 'melissa_tripdata' created successfully in database 'melissa_taxi'.\n"
     ]
    }
   ],
   "source": [
    "wr.catalog.create_parquet_table(\n",
    "    database=db_name, # pass the database name\n",
    "    table=table_name, # pass the table name\n",
    "    path=s3_path_directory, # use the directoy here \n",
    "    columns_types=columns_types,  # Pass the schema here\n",
    "    partitions_types=partitions_types\n",
    ")\n",
    "print(f\"Table '{table_name}' created successfully in database '{db_name}'.\")"
   ]
  },
  {
   "cell_type": "code",
   "execution_count": 8,
   "id": "ba11ad2d",
   "metadata": {},
   "outputs": [
    {
     "name": "stdout",
     "output_type": "stream",
     "text": [
      "\n",
      "Query Results:\n",
      "   vendorid tpep_pickup_datetime tpep_dropoff_datetime  passenger_count  \\\n",
      "0         2  2024-04-03 17:01:56   2024-04-03 17:31:43              NaN   \n",
      "1         2  2024-04-03 17:42:09   2024-04-03 17:42:57              NaN   \n",
      "2         2  2024-04-03 17:49:47   2024-04-03 18:39:29              NaN   \n",
      "3         2  2024-04-03 17:58:05   2024-04-03 18:04:41              NaN   \n",
      "4         2  2024-04-03 17:27:15   2024-04-03 17:58:46              NaN   \n",
      "\n",
      "   trip_distance  ratecodeid store_and_fwd_flag  pulocationid  dolocationid  \\\n",
      "0           3.32         NaN               <NA>            87           186   \n",
      "1           0.00         NaN               <NA>           246           246   \n",
      "2           3.77         NaN               <NA>           236           234   \n",
      "3           0.70         NaN               <NA>           233           233   \n",
      "4           4.63         NaN               <NA>           237           246   \n",
      "\n",
      "   payment_type  fare_amount  extra  mta_tax  tip_amount  tolls_amount  \\\n",
      "0             0        35.56    0.0      0.5        0.00           0.0   \n",
      "1             0        14.22    0.0      0.5        3.64           0.0   \n",
      "2             0        35.71    0.0      0.5        0.00           0.0   \n",
      "3             0        14.22    0.0      0.5        2.73           0.0   \n",
      "4             0        31.38    0.0      0.5        0.00           0.0   \n",
      "\n",
      "   improvement_surcharge  total_amount  congestion_surcharge  airport_fee  \n",
      "0                    1.0         39.56                   NaN          NaN  \n",
      "1                    1.0         21.86                   NaN          NaN  \n",
      "2                    1.0         39.71                   NaN          NaN  \n",
      "3                    1.0         20.95                   NaN          NaN  \n",
      "4                    1.0         35.38                   NaN          NaN  \n"
     ]
    }
   ],
   "source": [
    "query = f\"SELECT * FROM {table_name} LIMIT 5\"\n",
    "\n",
    "df = wr.athena.read_sql_query(query, database=db_name)\n",
    "\n",
    "print(\"\\nQuery Results:\")\n",
    "print(df)"
   ]
  },
  {
   "cell_type": "code",
   "execution_count": null,
   "id": "3c9cf6ca",
   "metadata": {},
   "outputs": [
    {
     "name": "stdout",
     "output_type": "stream",
     "text": [
      "taxi_data/\n",
      "taxi_data/8d12668ed190477fa03a29a0a5d50e84_000000_000000.snappy.parquet\n",
      "taxi_data/8d12668ed190477fa03a29a0a5d50e84_000001_000000.snappy.parquet\n",
      "taxi_data/8d12668ed190477fa03a29a0a5d50e84_000002_000000.snappy.parquet\n",
      "taxi_data/8d12668ed190477fa03a29a0a5d50e84_000003_000000.snappy.parquet\n",
      "taxi_data/yellow_tripdata_2024-01.parquet\n",
      "taxi_data/yellow_tripdata_2024-02.parquet\n",
      "taxi_data/yellow_tripdata_2024-03.parquet\n",
      "taxi_data/yellow_tripdata_2024-04.parquet\n"
     ]
    }
   ],
   "source": [
    "import boto3\n",
    "s3 = boto3.client(\"s3\")\n",
    "\n",
    "response = s3.list_objects_v2(Bucket=\"techcatalyst-raw\", Prefix=\"taxi_data/\")\n",
    "for obj in response.get('Contents', []):\n",
    "    print(obj['Key'])"
   ]
  },
  {
   "cell_type": "code",
   "execution_count": null,
   "id": "c43f6155",
   "metadata": {},
   "outputs": [
    {
     "name": "stdout",
     "output_type": "stream",
     "text": [
      "   VendorID tpep_pickup_datetime tpep_dropoff_datetime  passenger_count  \\\n",
      "0         2  2024-01-01 00:57:55   2024-01-01 01:17:43              1.0   \n",
      "1         1  2024-01-01 00:03:00   2024-01-01 00:09:36              1.0   \n",
      "2         1  2024-01-01 00:17:06   2024-01-01 00:35:01              1.0   \n",
      "3         1  2024-01-01 00:36:38   2024-01-01 00:44:56              1.0   \n",
      "4         1  2024-01-01 00:46:51   2024-01-01 00:52:57              1.0   \n",
      "\n",
      "   trip_distance  RatecodeID store_and_fwd_flag  PULocationID  DOLocationID  \\\n",
      "0           1.72         1.0                  N           186            79   \n",
      "1           1.80         1.0                  N           140           236   \n",
      "2           4.70         1.0                  N           236            79   \n",
      "3           1.40         1.0                  N            79           211   \n",
      "4           0.80         1.0                  N           211           148   \n",
      "\n",
      "   payment_type  fare_amount  extra  mta_tax  tip_amount  tolls_amount  \\\n",
      "0             2         17.7    1.0      0.5        0.00           0.0   \n",
      "1             1         10.0    3.5      0.5        3.75           0.0   \n",
      "2             1         23.3    3.5      0.5        3.00           0.0   \n",
      "3             1         10.0    3.5      0.5        2.00           0.0   \n",
      "4             1          7.9    3.5      0.5        3.20           0.0   \n",
      "\n",
      "   improvement_surcharge  total_amount  congestion_surcharge  Airport_fee  \n",
      "0                    1.0         22.70                   2.5          0.0  \n",
      "1                    1.0         18.75                   2.5          0.0  \n",
      "2                    1.0         31.30                   2.5          0.0  \n",
      "3                    1.0         17.00                   2.5          0.0  \n",
      "4                    1.0         16.10                   2.5          0.0  \n"
     ]
    }
   ],
   "source": [
    "import awswrangler as wr\n",
    "df_test = wr.s3.read_parquet(path=s3_path_file)\n",
    "print(df_test.head())"
   ]
  },
  {
   "cell_type": "code",
   "execution_count": 6,
   "id": "06b8aed8",
   "metadata": {},
   "outputs": [
    {
     "data": {
      "text/plain": [
       "['s3://techcatalyst-raw/taxi_data/8d12668ed190477fa03a29a0a5d50e84_000000_000000.snappy.parquet',\n",
       " 's3://techcatalyst-raw/taxi_data/8d12668ed190477fa03a29a0a5d50e84_000001_000000.snappy.parquet',\n",
       " 's3://techcatalyst-raw/taxi_data/8d12668ed190477fa03a29a0a5d50e84_000002_000000.snappy.parquet',\n",
       " 's3://techcatalyst-raw/taxi_data/8d12668ed190477fa03a29a0a5d50e84_000003_000000.snappy.parquet',\n",
       " 's3://techcatalyst-raw/taxi_data/yellow_tripdata_2024-01.parquet',\n",
       " 's3://techcatalyst-raw/taxi_data/yellow_tripdata_2024-02.parquet',\n",
       " 's3://techcatalyst-raw/taxi_data/yellow_tripdata_2024-03.parquet',\n",
       " 's3://techcatalyst-raw/taxi_data/yellow_tripdata_2024-04.parquet']"
      ]
     },
     "execution_count": 6,
     "metadata": {},
     "output_type": "execute_result"
    }
   ],
   "source": [
    "wr.s3.list_objects(s3_path_directory)\n"
   ]
  },
  {
   "cell_type": "code",
   "execution_count": 2,
   "id": "3f79e13d",
   "metadata": {},
   "outputs": [],
   "source": [
    "import boto3\n",
    "s3_client = boto3.client(\"s3\")\n",
    "\n",
    "s3_client.upload_file(Filename='test.csv', # local file name\n",
    "                      Bucket='techcatalyst-raw', # the bucket target\n",
    "                      Key='MELISSA/test.csv')\n"
   ]
  },
  {
   "cell_type": "code",
   "execution_count": null,
   "id": "4c6074f6",
   "metadata": {},
   "outputs": [],
   "source": []
  }
 ],
 "metadata": {
  "kernelspec": {
   "display_name": "dev",
   "language": "python",
   "name": "python3"
  },
  "language_info": {
   "codemirror_mode": {
    "name": "ipython",
    "version": 3
   },
   "file_extension": ".py",
   "mimetype": "text/x-python",
   "name": "python",
   "nbconvert_exporter": "python",
   "pygments_lexer": "ipython3",
   "version": "3.12.1"
  }
 },
 "nbformat": 4,
 "nbformat_minor": 5
}
